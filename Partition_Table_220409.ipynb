{
 "cells": [
  {
   "cell_type": "code",
   "execution_count": 106,
   "id": "334ecfc6",
   "metadata": {},
   "outputs": [],
   "source": [
    "import pandas as pd\n",
    "import numpy as np"
   ]
  },
  {
   "cell_type": "code",
   "execution_count": 107,
   "id": "eb430792",
   "metadata": {},
   "outputs": [
    {
     "data": {
      "text/html": [
       "<div>\n",
       "<style scoped>\n",
       "    .dataframe tbody tr th:only-of-type {\n",
       "        vertical-align: middle;\n",
       "    }\n",
       "\n",
       "    .dataframe tbody tr th {\n",
       "        vertical-align: top;\n",
       "    }\n",
       "\n",
       "    .dataframe thead th {\n",
       "        text-align: right;\n",
       "    }\n",
       "</style>\n",
       "<table border=\"1\" class=\"dataframe\">\n",
       "  <thead>\n",
       "    <tr style=\"text-align: right;\">\n",
       "      <th></th>\n",
       "      <th>Year</th>\n",
       "      <th>Abstract</th>\n",
       "    </tr>\n",
       "  </thead>\n",
       "  <tbody>\n",
       "    <tr>\n",
       "      <th>0</th>\n",
       "      <td>2020</td>\n",
       "      <td>Stormwater management is one of the greatest c...</td>\n",
       "    </tr>\n",
       "    <tr>\n",
       "      <th>1</th>\n",
       "      <td>2021</td>\n",
       "      <td>Wine producers face several challenges regardi...</td>\n",
       "    </tr>\n",
       "    <tr>\n",
       "      <th>2</th>\n",
       "      <td>2021</td>\n",
       "      <td>Terrestrial ecosystems are the core components...</td>\n",
       "    </tr>\n",
       "    <tr>\n",
       "      <th>3</th>\n",
       "      <td>2021</td>\n",
       "      <td>(Despite a growing recognition of the importan...</td>\n",
       "    </tr>\n",
       "    <tr>\n",
       "      <th>4</th>\n",
       "      <td>2018</td>\n",
       "      <td>The response of coastal wetlands to sea-level ...</td>\n",
       "    </tr>\n",
       "    <tr>\n",
       "      <th>...</th>\n",
       "      <td>...</td>\n",
       "      <td>...</td>\n",
       "    </tr>\n",
       "    <tr>\n",
       "      <th>1051</th>\n",
       "      <td>2012</td>\n",
       "      <td>The presented article deals with an indirect e...</td>\n",
       "    </tr>\n",
       "    <tr>\n",
       "      <th>1052</th>\n",
       "      <td>2014</td>\n",
       "      <td>This article draws on different bodies of know...</td>\n",
       "    </tr>\n",
       "    <tr>\n",
       "      <th>1053</th>\n",
       "      <td>2010</td>\n",
       "      <td>Remote areas devoid of roads and tourist trans...</td>\n",
       "    </tr>\n",
       "    <tr>\n",
       "      <th>1054</th>\n",
       "      <td>2009</td>\n",
       "      <td>The importance of ecosystem services for manki...</td>\n",
       "    </tr>\n",
       "    <tr>\n",
       "      <th>1055</th>\n",
       "      <td>2006</td>\n",
       "      <td>Soil moisture content (0–90 cm depth) and nitr...</td>\n",
       "    </tr>\n",
       "  </tbody>\n",
       "</table>\n",
       "<p>1056 rows × 2 columns</p>\n",
       "</div>"
      ],
      "text/plain": [
       "      Year                                           Abstract\n",
       "0     2020  Stormwater management is one of the greatest c...\n",
       "1     2021  Wine producers face several challenges regardi...\n",
       "2     2021  Terrestrial ecosystems are the core components...\n",
       "3     2021  (Despite a growing recognition of the importan...\n",
       "4     2018  The response of coastal wetlands to sea-level ...\n",
       "...    ...                                                ...\n",
       "1051  2012  The presented article deals with an indirect e...\n",
       "1052  2014  This article draws on different bodies of know...\n",
       "1053  2010  Remote areas devoid of roads and tourist trans...\n",
       "1054  2009  The importance of ecosystem services for manki...\n",
       "1055  2006  Soil moisture content (0–90 cm depth) and nitr...\n",
       "\n",
       "[1056 rows x 2 columns]"
      ]
     },
     "execution_count": 107,
     "metadata": {},
     "output_type": "execute_result"
    }
   ],
   "source": [
    "df = pd.read_excel('nbs_data.xlsx')\n",
    "df_y_a = df.loc[:, ['Year', 'Abstract']]\n",
    "df_y_a"
   ]
  },
  {
   "cell_type": "code",
   "execution_count": 108,
   "id": "b69d1e83",
   "metadata": {
    "scrolled": true
   },
   "outputs": [
    {
     "data": {
      "text/plain": [
       "[1, 1, 1, 1, 1, 2, 5, 7, 20, 51, 73, 123, 263, 485, 22]"
      ]
     },
     "execution_count": 108,
     "metadata": {},
     "output_type": "execute_result"
    }
   ],
   "source": [
    "df_cnt = df_y_a.groupby(['Year']).count()\n",
    "df_cnt_list = sum(df_cnt.values.tolist(), [])\n",
    "df_cnt_list"
   ]
  },
  {
   "cell_type": "code",
   "execution_count": 138,
   "id": "1220db7a",
   "metadata": {},
   "outputs": [],
   "source": [
    "year = [2003, 2006, 2007, 2009, 2010, 2012, 2014, 2015, 2016, 2017, 2018, 2019, 2020, 2021, 2022]\n",
    "keyword = [\"forest\", \"forestation\", \"afforestation\", \"reforestation\", \"green\", \"tree\"]"
   ]
  },
  {
   "cell_type": "code",
   "execution_count": 110,
   "id": "6ce8b384",
   "metadata": {},
   "outputs": [],
   "source": [
    "df_list = df_y_a.values.tolist()"
   ]
  },
  {
   "cell_type": "markdown",
   "id": "2655fde3",
   "metadata": {},
   "source": [
    "### 연도별 keyword 개수"
   ]
  },
  {
   "cell_type": "code",
   "execution_count": 111,
   "id": "fb8aea0e",
   "metadata": {},
   "outputs": [],
   "source": [
    "find_word = [0] * 15\n",
    "for i in range(len(df_list)):\n",
    "    if df_list[i][0] == 2003:\n",
    "        for j in range(len(keyword)):\n",
    "            if keyword[j] in df_list[i][1]:\n",
    "                find_word[0] += 1\n",
    "    elif df_list[i][0] == 2006:\n",
    "        for j in range(len(keyword)):\n",
    "            if keyword[j] in df_list[i][1]:\n",
    "                find_word[1] += 1\n",
    "    elif df_list[i][0] == 2007:\n",
    "        for j in range(len(keyword)):\n",
    "            if keyword[j] in df_list[i][1]:\n",
    "                find_word[2] += 1\n",
    "    elif df_list[i][0] == 2009:\n",
    "        for j in range(len(keyword)):\n",
    "            if keyword[j] in df_list[i][1]:\n",
    "                find_word[3] += 1\n",
    "    elif df_list[i][0] == 2010:\n",
    "        for j in range(len(keyword)):\n",
    "            if keyword[j] in df_list[i][1]:\n",
    "                find_word[4] += 1\n",
    "    elif df_list[i][0] == 2012:\n",
    "        for j in range(len(keyword)):\n",
    "            if keyword[j] in df_list[i][1]:\n",
    "                find_word[5] += 1\n",
    "    elif df_list[i][0] == 2014:\n",
    "        for j in range(len(keyword)):\n",
    "            if keyword[j] in df_list[i][1]:\n",
    "                find_word[6] += 1\n",
    "    elif df_list[i][0] == 2015:\n",
    "        for j in range(len(keyword)):\n",
    "            if keyword[j] in df_list[i][1]:\n",
    "                find_word[7] += 1\n",
    "    elif df_list[i][0] == 2016:\n",
    "        for j in range(len(keyword)):\n",
    "            if keyword[j] in df_list[i][1]:\n",
    "                find_word[8] += 1\n",
    "    elif df_list[0][0] == 2017:\n",
    "        for j in range(len(keyword)):\n",
    "            if keyword[j] in df_list[i][1]:\n",
    "                find_word[9] += 1\n",
    "    elif df_list[i][0] == 2018:\n",
    "        for j in range(len(keyword)):\n",
    "            if keyword[j] in df_list[i][1]:\n",
    "                find_word[10] += 1\n",
    "    elif df_list[i][0] == 2019:\n",
    "        for j in range(len(keyword)):\n",
    "            if keyword[j] in df_list[i][1]:\n",
    "                find_word[11] += 1\n",
    "    elif df_list[i][0] == 2020:\n",
    "        for j in range(len(keyword)):\n",
    "            if keyword[j] in df_list[i][1]:\n",
    "                find_word[12] += 1\n",
    "    elif df_list[i][0] == 2021:\n",
    "        for j in range(len(keyword)):\n",
    "            if keyword[j] in df_list[i][1]:\n",
    "                find_word[13] += 1\n",
    "    elif df_list[i][0] == 2022:\n",
    "        for j in range(len(keyword)):\n",
    "            if keyword[j] in df_list[i][1]:\n",
    "                find_word[14] += 1\n",
    "    else:\n",
    "        pass"
   ]
  },
  {
   "cell_type": "code",
   "execution_count": 112,
   "id": "f516800b",
   "metadata": {},
   "outputs": [
    {
     "data": {
      "text/plain": [
       "[0, 2, 0, 0, 0, 0, 1, 5, 16, 0, 45, 73, 149, 292, 14]"
      ]
     },
     "execution_count": 112,
     "metadata": {},
     "output_type": "execute_result"
    }
   ],
   "source": [
    "find_word"
   ]
  },
  {
   "cell_type": "code",
   "execution_count": 113,
   "id": "f7f8cbea",
   "metadata": {},
   "outputs": [
    {
     "data": {
      "text/plain": [
       "[0.0,\n",
       " 2.0,\n",
       " 0.0,\n",
       " 0.0,\n",
       " 0.0,\n",
       " 0.0,\n",
       " 0.2,\n",
       " 0.7142857142857143,\n",
       " 0.8,\n",
       " 0.0,\n",
       " 0.6164383561643836,\n",
       " 0.5934959349593496,\n",
       " 0.5665399239543726,\n",
       " 0.6020618556701031,\n",
       " 0.6363636363636364]"
      ]
     },
     "execution_count": 113,
     "metadata": {},
     "output_type": "execute_result"
    }
   ],
   "source": [
    "find_word_percent = [0] * 15\n",
    "for i in range(len(find_word)):\n",
    "    find_word_percent[i] = find_word[i] / df_cnt_list[i]\n",
    "find_word_percent"
   ]
  },
  {
   "cell_type": "markdown",
   "id": "450a133d",
   "metadata": {},
   "source": [
    "### 연도별 keyword가 포함된 논문 개수"
   ]
  },
  {
   "cell_type": "code",
   "execution_count": 114,
   "id": "78453f3e",
   "metadata": {},
   "outputs": [],
   "source": [
    "find_num = [0] * 15\n",
    "flag = 0\n",
    "for i in range(len(df_list)):\n",
    "    if df_list[i][0] == 2003:\n",
    "        for j in range(len(keyword)):\n",
    "            if keyword[j] in df_list[i][1]:\n",
    "                flag = 1\n",
    "        if (flag == 1):\n",
    "            find_num[0] += 1\n",
    "            flag = 0\n",
    "    elif df_list[i][0] == 2006:\n",
    "        for j in range(len(keyword)):\n",
    "            if keyword[j] in df_list[i][1]:\n",
    "                flag = 1\n",
    "        if (flag == 1):\n",
    "            find_num[1] += 1\n",
    "            flag = 0\n",
    "    elif df_list[i][0] == 2007:\n",
    "        for j in range(len(keyword)):\n",
    "            if keyword[j] in df_list[i][1]:\n",
    "                flag = 1\n",
    "        if (flag == 1):\n",
    "            find_num[2] += 1\n",
    "            flag = 0\n",
    "    elif df_list[i][0] == 2009:\n",
    "        for j in range(len(keyword)):\n",
    "            if keyword[j] in df_list[i][1]:\n",
    "                flag = 1\n",
    "        if (flag == 1):\n",
    "            find_num[3] += 1\n",
    "            flag = 0\n",
    "    elif df_list[i][0] == 2010:\n",
    "        for j in range(len(keyword)):\n",
    "            if keyword[j] in df_list[i][1]:\n",
    "                flag = 1\n",
    "        if (flag == 1):\n",
    "            find_num[4] += 1\n",
    "            flag = 0\n",
    "    elif df_list[i][0] == 2012:\n",
    "        for j in range(len(keyword)):\n",
    "            if keyword[j] in df_list[i][1]:\n",
    "                flag = 1\n",
    "        if (flag == 1):\n",
    "            find_num[5] += 1\n",
    "            flag = 0\n",
    "    elif df_list[i][0] == 2014:\n",
    "        for j in range(len(keyword)):\n",
    "            if keyword[j] in df_list[i][1]:\n",
    "                flag = 1\n",
    "        if (flag == 1):\n",
    "            find_num[6] += 1\n",
    "            flag = 0\n",
    "    elif df_list[i][0] == 2015:\n",
    "        for j in range(len(keyword)):\n",
    "            if keyword[j] in df_list[i][1]:\n",
    "                flag = 1\n",
    "        if (flag == 1):\n",
    "            find_num[7] += 1\n",
    "            flag = 0\n",
    "    elif df_list[i][0] == 2016:\n",
    "        for j in range(len(keyword)):\n",
    "            if keyword[j] in df_list[i][1]:\n",
    "                flag = 1\n",
    "        if (flag == 1):\n",
    "            find_num[8] += 1\n",
    "            flag = 0\n",
    "    elif df_list[0][0] == 2017:\n",
    "        for j in range(len(keyword)):\n",
    "            if keyword[j] in df_list[i][1]:\n",
    "                flag = 1\n",
    "        if (flag == 1):\n",
    "            find_num[9] += 1\n",
    "            flag = 0\n",
    "    elif df_list[i][0] == 2018:\n",
    "        for j in range(len(keyword)):\n",
    "            if keyword[j] in df_list[i][1]:\n",
    "                flag = 1\n",
    "        if (flag == 1):\n",
    "            find_num[10] += 1\n",
    "            flag = 0\n",
    "    elif df_list[i][0] == 2019:\n",
    "        for j in range(len(keyword)):\n",
    "            if keyword[j] in df_list[i][1]:\n",
    "                flag = 1\n",
    "        if (flag == 1):\n",
    "            find_num[11] += 1\n",
    "            flag = 0\n",
    "    elif df_list[i][0] == 2020:\n",
    "        for j in range(len(keyword)):\n",
    "            if keyword[j] in df_list[i][1]:\n",
    "                flag = 1\n",
    "        if (flag == 1):\n",
    "            find_num[12] += 1\n",
    "            flag = 0\n",
    "    elif df_list[i][0] == 2021:\n",
    "        for j in range(len(keyword)):\n",
    "            if keyword[j] in df_list[i][1]:\n",
    "                flag = 1\n",
    "        if (flag == 1):\n",
    "            find_num[13] += 1\n",
    "            flag = 0\n",
    "    elif df_list[i][0] == 2022:\n",
    "        for j in range(len(keyword)):\n",
    "            if keyword[j] in df_list[i][1]:\n",
    "                flag = 1\n",
    "        if (flag == 1):\n",
    "            find_num[14] += 1\n",
    "            flag = 0\n",
    "    else:\n",
    "        pass"
   ]
  },
  {
   "cell_type": "code",
   "execution_count": 115,
   "id": "3fdfeee2",
   "metadata": {},
   "outputs": [
    {
     "data": {
      "text/plain": [
       "[0, 1, 0, 0, 0, 0, 1, 3, 12, 0, 31, 60, 104, 209, 8]"
      ]
     },
     "execution_count": 115,
     "metadata": {},
     "output_type": "execute_result"
    }
   ],
   "source": [
    "find_num"
   ]
  },
  {
   "cell_type": "code",
   "execution_count": 118,
   "id": "93fc4662",
   "metadata": {},
   "outputs": [
    {
     "data": {
      "text/plain": [
       "[0.0,\n",
       " 1.0,\n",
       " 0.0,\n",
       " 0.0,\n",
       " 0.0,\n",
       " 0.0,\n",
       " 0.2,\n",
       " 0.42857142857142855,\n",
       " 0.6,\n",
       " 0.0,\n",
       " 0.4246575342465753,\n",
       " 0.4878048780487805,\n",
       " 0.39543726235741444,\n",
       " 0.4309278350515464,\n",
       " 0.36363636363636365]"
      ]
     },
     "execution_count": 118,
     "metadata": {},
     "output_type": "execute_result"
    }
   ],
   "source": [
    "find_num_percent = [0] * 15\n",
    "for i in range(len(find_num)):\n",
    "    find_num_percent[i] = find_num[i] / df_cnt_list[i]\n",
    "find_num_percent"
   ]
  },
  {
   "cell_type": "code",
   "execution_count": 143,
   "id": "57e77831",
   "metadata": {},
   "outputs": [
    {
     "data": {
      "text/plain": [
       "array([['2003', '0.0'],\n",
       "       ['2006', '1.0'],\n",
       "       ['2007', '0.0'],\n",
       "       ['2009', '0.0'],\n",
       "       ['2010', '0.0'],\n",
       "       ['2012', '0.0'],\n",
       "       ['2014', '0.2'],\n",
       "       ['2015', '0.42857142857142855'],\n",
       "       ['2016', '0.6'],\n",
       "       ['2017', '0.0'],\n",
       "       ['2018', '0.4246575342465753'],\n",
       "       ['2019', '0.4878048780487805'],\n",
       "       ['2020', '0.39543726235741444'],\n",
       "       ['2021', '0.4309278350515464'],\n",
       "       ['2022', '0.36363636363636365']], dtype='<U19')"
      ]
     },
     "execution_count": 143,
     "metadata": {},
     "output_type": "execute_result"
    }
   ],
   "source": [
    "find_num_data_str = np.column_stack((list(map(str, year)), list(map(str, find_num_percent))))\n",
    "find_num_data_str"
   ]
  },
  {
   "cell_type": "code",
   "execution_count": null,
   "id": "fe5b578c",
   "metadata": {},
   "outputs": [],
   "source": []
  }
 ],
 "metadata": {
  "kernelspec": {
   "display_name": "Python 3 (ipykernel)",
   "language": "python",
   "name": "python3"
  },
  "language_info": {
   "codemirror_mode": {
    "name": "ipython",
    "version": 3
   },
   "file_extension": ".py",
   "mimetype": "text/x-python",
   "name": "python",
   "nbconvert_exporter": "python",
   "pygments_lexer": "ipython3",
   "version": "3.9.7"
  }
 },
 "nbformat": 4,
 "nbformat_minor": 5
}
